{
 "cells": [
  {
   "cell_type": "code",
   "execution_count": 1,
   "id": "41bd5a38",
   "metadata": {},
   "outputs": [],
   "source": [
    "#import data\n",
    "import numpy as np\n",
    "import pandas as pd\n",
    "import matplotlib.pyplot as plt\n",
    "import seaborn as sns\n",
    "CombinedDataFrame = pd.read_csv(\"CombinedDataFrame.csv\",index_col=[\"symbol\",\"date\"],parse_dates=[\"date\"])"
   ]
  },
  {
   "cell_type": "code",
   "execution_count": 2,
   "id": "3f9cbd7c",
   "metadata": {
    "scrolled": true
   },
   "outputs": [
    {
     "data": {
      "text/html": [
       "<div>\n",
       "<style scoped>\n",
       "    .dataframe tbody tr th:only-of-type {\n",
       "        vertical-align: middle;\n",
       "    }\n",
       "\n",
       "    .dataframe tbody tr th {\n",
       "        vertical-align: top;\n",
       "    }\n",
       "\n",
       "    .dataframe thead th {\n",
       "        text-align: right;\n",
       "    }\n",
       "</style>\n",
       "<table border=\"1\" class=\"dataframe\">\n",
       "  <thead>\n",
       "    <tr style=\"text-align: right;\">\n",
       "      <th></th>\n",
       "      <th></th>\n",
       "      <th>deferredIncomeTax</th>\n",
       "      <th>stockBasedCompensation</th>\n",
       "      <th>changeInWorkingCapital</th>\n",
       "      <th>accountsReceivables</th>\n",
       "      <th>netCashProvidedByOperatingActivities</th>\n",
       "      <th>acquisitionsNet</th>\n",
       "      <th>otherInvestingActivites</th>\n",
       "      <th>commonStockIssued</th>\n",
       "      <th>commonStockRepurchased</th>\n",
       "      <th>effectOfForexChangesOnCash</th>\n",
       "      <th>...</th>\n",
       "      <th>intangibleAssets</th>\n",
       "      <th>longTermInvestments</th>\n",
       "      <th>taxAssets</th>\n",
       "      <th>accountPayables</th>\n",
       "      <th>longTermDebt</th>\n",
       "      <th>deferredRevenueNonCurrent</th>\n",
       "      <th>otherNonCurrentLiabilities</th>\n",
       "      <th>commonStock</th>\n",
       "      <th>totalDebt</th>\n",
       "      <th>is_above_market_average</th>\n",
       "    </tr>\n",
       "    <tr>\n",
       "      <th>symbol</th>\n",
       "      <th>date</th>\n",
       "      <th></th>\n",
       "      <th></th>\n",
       "      <th></th>\n",
       "      <th></th>\n",
       "      <th></th>\n",
       "      <th></th>\n",
       "      <th></th>\n",
       "      <th></th>\n",
       "      <th></th>\n",
       "      <th></th>\n",
       "      <th></th>\n",
       "      <th></th>\n",
       "      <th></th>\n",
       "      <th></th>\n",
       "      <th></th>\n",
       "      <th></th>\n",
       "      <th></th>\n",
       "      <th></th>\n",
       "      <th></th>\n",
       "      <th></th>\n",
       "      <th></th>\n",
       "    </tr>\n",
       "  </thead>\n",
       "  <tbody>\n",
       "    <tr>\n",
       "      <th rowspan=\"5\" valign=\"top\">CMCSA</th>\n",
       "      <th>2021-09-30</th>\n",
       "      <td>1847.0</td>\n",
       "      <td>2055.0</td>\n",
       "      <td>48.0</td>\n",
       "      <td>937.0</td>\n",
       "      <td>4785.0</td>\n",
       "      <td>295.0</td>\n",
       "      <td>42.0</td>\n",
       "      <td>100.0</td>\n",
       "      <td>1089.0</td>\n",
       "      <td>270.0</td>\n",
       "      <td>...</td>\n",
       "      <td>2690.0</td>\n",
       "      <td>1667.0</td>\n",
       "      <td>1.0</td>\n",
       "      <td>4108.0</td>\n",
       "      <td>3468.0</td>\n",
       "      <td>1.0</td>\n",
       "      <td>3772.0</td>\n",
       "      <td>2336.0</td>\n",
       "      <td>4134.0</td>\n",
       "      <td>0.0</td>\n",
       "    </tr>\n",
       "    <tr>\n",
       "      <th>2021-06-30</th>\n",
       "      <td>1850.0</td>\n",
       "      <td>2056.0</td>\n",
       "      <td>3101.0</td>\n",
       "      <td>937.0</td>\n",
       "      <td>4794.0</td>\n",
       "      <td>67.0</td>\n",
       "      <td>42.0</td>\n",
       "      <td>100.0</td>\n",
       "      <td>1089.0</td>\n",
       "      <td>1624.0</td>\n",
       "      <td>...</td>\n",
       "      <td>2691.0</td>\n",
       "      <td>1666.0</td>\n",
       "      <td>1.0</td>\n",
       "      <td>4106.0</td>\n",
       "      <td>3468.0</td>\n",
       "      <td>1.0</td>\n",
       "      <td>3772.0</td>\n",
       "      <td>2343.0</td>\n",
       "      <td>4135.0</td>\n",
       "      <td>1.0</td>\n",
       "    </tr>\n",
       "    <tr>\n",
       "      <th>2021-03-31</th>\n",
       "      <td>1657.0</td>\n",
       "      <td>2057.0</td>\n",
       "      <td>4479.0</td>\n",
       "      <td>937.0</td>\n",
       "      <td>4795.0</td>\n",
       "      <td>90.0</td>\n",
       "      <td>46.0</td>\n",
       "      <td>100.0</td>\n",
       "      <td>1089.0</td>\n",
       "      <td>83.0</td>\n",
       "      <td>...</td>\n",
       "      <td>2691.0</td>\n",
       "      <td>1657.0</td>\n",
       "      <td>1.0</td>\n",
       "      <td>4103.0</td>\n",
       "      <td>3469.0</td>\n",
       "      <td>1.0</td>\n",
       "      <td>3772.0</td>\n",
       "      <td>2343.0</td>\n",
       "      <td>4137.0</td>\n",
       "      <td>1.0</td>\n",
       "    </tr>\n",
       "    <tr>\n",
       "      <th>2020-12-31</th>\n",
       "      <td>20.0</td>\n",
       "      <td>2053.0</td>\n",
       "      <td>269.0</td>\n",
       "      <td>937.0</td>\n",
       "      <td>4776.0</td>\n",
       "      <td>93.0</td>\n",
       "      <td>34.0</td>\n",
       "      <td>100.0</td>\n",
       "      <td>1089.0</td>\n",
       "      <td>130.0</td>\n",
       "      <td>...</td>\n",
       "      <td>2691.0</td>\n",
       "      <td>1656.0</td>\n",
       "      <td>1.0</td>\n",
       "      <td>4104.0</td>\n",
       "      <td>3469.0</td>\n",
       "      <td>1.0</td>\n",
       "      <td>3769.0</td>\n",
       "      <td>2336.0</td>\n",
       "      <td>4137.0</td>\n",
       "      <td>0.0</td>\n",
       "    </tr>\n",
       "    <tr>\n",
       "      <th>2020-09-30</th>\n",
       "      <td>45.0</td>\n",
       "      <td>2055.0</td>\n",
       "      <td>72.0</td>\n",
       "      <td>937.0</td>\n",
       "      <td>4777.0</td>\n",
       "      <td>57.0</td>\n",
       "      <td>38.0</td>\n",
       "      <td>100.0</td>\n",
       "      <td>1089.0</td>\n",
       "      <td>1688.0</td>\n",
       "      <td>...</td>\n",
       "      <td>2691.0</td>\n",
       "      <td>1645.0</td>\n",
       "      <td>1.0</td>\n",
       "      <td>4102.0</td>\n",
       "      <td>3469.0</td>\n",
       "      <td>1.0</td>\n",
       "      <td>3767.0</td>\n",
       "      <td>2336.0</td>\n",
       "      <td>4137.0</td>\n",
       "      <td>0.0</td>\n",
       "    </tr>\n",
       "    <tr>\n",
       "      <th>...</th>\n",
       "      <th>...</th>\n",
       "      <td>...</td>\n",
       "      <td>...</td>\n",
       "      <td>...</td>\n",
       "      <td>...</td>\n",
       "      <td>...</td>\n",
       "      <td>...</td>\n",
       "      <td>...</td>\n",
       "      <td>...</td>\n",
       "      <td>...</td>\n",
       "      <td>...</td>\n",
       "      <td>...</td>\n",
       "      <td>...</td>\n",
       "      <td>...</td>\n",
       "      <td>...</td>\n",
       "      <td>...</td>\n",
       "      <td>...</td>\n",
       "      <td>...</td>\n",
       "      <td>...</td>\n",
       "      <td>...</td>\n",
       "      <td>...</td>\n",
       "      <td>...</td>\n",
       "    </tr>\n",
       "    <tr>\n",
       "      <th rowspan=\"5\" valign=\"top\">STC.V</th>\n",
       "      <th>2003-12-31</th>\n",
       "      <td>875.0</td>\n",
       "      <td>56.0</td>\n",
       "      <td>2297.0</td>\n",
       "      <td>937.0</td>\n",
       "      <td>1624.0</td>\n",
       "      <td>615.0</td>\n",
       "      <td>1856.0</td>\n",
       "      <td>100.0</td>\n",
       "      <td>1089.0</td>\n",
       "      <td>876.0</td>\n",
       "      <td>...</td>\n",
       "      <td>632.0</td>\n",
       "      <td>83.0</td>\n",
       "      <td>180.0</td>\n",
       "      <td>143.0</td>\n",
       "      <td>1.0</td>\n",
       "      <td>1.0</td>\n",
       "      <td>425.0</td>\n",
       "      <td>2.0</td>\n",
       "      <td>1.0</td>\n",
       "      <td>0.0</td>\n",
       "    </tr>\n",
       "    <tr>\n",
       "      <th>2003-09-30</th>\n",
       "      <td>878.0</td>\n",
       "      <td>56.0</td>\n",
       "      <td>2280.0</td>\n",
       "      <td>937.0</td>\n",
       "      <td>1582.0</td>\n",
       "      <td>615.0</td>\n",
       "      <td>1828.0</td>\n",
       "      <td>100.0</td>\n",
       "      <td>1089.0</td>\n",
       "      <td>876.0</td>\n",
       "      <td>...</td>\n",
       "      <td>621.0</td>\n",
       "      <td>83.0</td>\n",
       "      <td>178.0</td>\n",
       "      <td>147.0</td>\n",
       "      <td>1.0</td>\n",
       "      <td>1.0</td>\n",
       "      <td>425.0</td>\n",
       "      <td>2.0</td>\n",
       "      <td>114.0</td>\n",
       "      <td>1.0</td>\n",
       "    </tr>\n",
       "    <tr>\n",
       "      <th>2003-06-30</th>\n",
       "      <td>849.0</td>\n",
       "      <td>56.0</td>\n",
       "      <td>2635.0</td>\n",
       "      <td>937.0</td>\n",
       "      <td>1677.0</td>\n",
       "      <td>615.0</td>\n",
       "      <td>2252.0</td>\n",
       "      <td>100.0</td>\n",
       "      <td>1089.0</td>\n",
       "      <td>876.0</td>\n",
       "      <td>...</td>\n",
       "      <td>619.0</td>\n",
       "      <td>83.0</td>\n",
       "      <td>176.0</td>\n",
       "      <td>120.0</td>\n",
       "      <td>1.0</td>\n",
       "      <td>1.0</td>\n",
       "      <td>425.0</td>\n",
       "      <td>2.0</td>\n",
       "      <td>116.0</td>\n",
       "      <td>0.0</td>\n",
       "    </tr>\n",
       "    <tr>\n",
       "      <th>2003-03-31</th>\n",
       "      <td>849.0</td>\n",
       "      <td>56.0</td>\n",
       "      <td>2125.0</td>\n",
       "      <td>937.0</td>\n",
       "      <td>1525.0</td>\n",
       "      <td>615.0</td>\n",
       "      <td>1712.0</td>\n",
       "      <td>100.0</td>\n",
       "      <td>1089.0</td>\n",
       "      <td>876.0</td>\n",
       "      <td>...</td>\n",
       "      <td>598.0</td>\n",
       "      <td>83.0</td>\n",
       "      <td>136.0</td>\n",
       "      <td>154.0</td>\n",
       "      <td>1.0</td>\n",
       "      <td>1.0</td>\n",
       "      <td>425.0</td>\n",
       "      <td>2.0</td>\n",
       "      <td>16.0</td>\n",
       "      <td>0.0</td>\n",
       "    </tr>\n",
       "    <tr>\n",
       "      <th>2002-12-31</th>\n",
       "      <td>849.0</td>\n",
       "      <td>56.0</td>\n",
       "      <td>2242.0</td>\n",
       "      <td>937.0</td>\n",
       "      <td>1558.0</td>\n",
       "      <td>615.0</td>\n",
       "      <td>1822.0</td>\n",
       "      <td>100.0</td>\n",
       "      <td>1089.0</td>\n",
       "      <td>876.0</td>\n",
       "      <td>...</td>\n",
       "      <td>581.0</td>\n",
       "      <td>83.0</td>\n",
       "      <td>127.0</td>\n",
       "      <td>128.0</td>\n",
       "      <td>1.0</td>\n",
       "      <td>1.0</td>\n",
       "      <td>425.0</td>\n",
       "      <td>2.0</td>\n",
       "      <td>109.0</td>\n",
       "      <td>1.0</td>\n",
       "    </tr>\n",
       "  </tbody>\n",
       "</table>\n",
       "<p>430057 rows × 33 columns</p>\n",
       "</div>"
      ],
      "text/plain": [
       "                   deferredIncomeTax  stockBasedCompensation  \\\n",
       "symbol date                                                    \n",
       "CMCSA  2021-09-30             1847.0                  2055.0   \n",
       "       2021-06-30             1850.0                  2056.0   \n",
       "       2021-03-31             1657.0                  2057.0   \n",
       "       2020-12-31               20.0                  2053.0   \n",
       "       2020-09-30               45.0                  2055.0   \n",
       "...                              ...                     ...   \n",
       "STC.V  2003-12-31              875.0                    56.0   \n",
       "       2003-09-30              878.0                    56.0   \n",
       "       2003-06-30              849.0                    56.0   \n",
       "       2003-03-31              849.0                    56.0   \n",
       "       2002-12-31              849.0                    56.0   \n",
       "\n",
       "                   changeInWorkingCapital  accountsReceivables  \\\n",
       "symbol date                                                      \n",
       "CMCSA  2021-09-30                    48.0                937.0   \n",
       "       2021-06-30                  3101.0                937.0   \n",
       "       2021-03-31                  4479.0                937.0   \n",
       "       2020-12-31                   269.0                937.0   \n",
       "       2020-09-30                    72.0                937.0   \n",
       "...                                   ...                  ...   \n",
       "STC.V  2003-12-31                  2297.0                937.0   \n",
       "       2003-09-30                  2280.0                937.0   \n",
       "       2003-06-30                  2635.0                937.0   \n",
       "       2003-03-31                  2125.0                937.0   \n",
       "       2002-12-31                  2242.0                937.0   \n",
       "\n",
       "                   netCashProvidedByOperatingActivities  acquisitionsNet  \\\n",
       "symbol date                                                                \n",
       "CMCSA  2021-09-30                                4785.0            295.0   \n",
       "       2021-06-30                                4794.0             67.0   \n",
       "       2021-03-31                                4795.0             90.0   \n",
       "       2020-12-31                                4776.0             93.0   \n",
       "       2020-09-30                                4777.0             57.0   \n",
       "...                                                 ...              ...   \n",
       "STC.V  2003-12-31                                1624.0            615.0   \n",
       "       2003-09-30                                1582.0            615.0   \n",
       "       2003-06-30                                1677.0            615.0   \n",
       "       2003-03-31                                1525.0            615.0   \n",
       "       2002-12-31                                1558.0            615.0   \n",
       "\n",
       "                   otherInvestingActivites  commonStockIssued  \\\n",
       "symbol date                                                     \n",
       "CMCSA  2021-09-30                     42.0              100.0   \n",
       "       2021-06-30                     42.0              100.0   \n",
       "       2021-03-31                     46.0              100.0   \n",
       "       2020-12-31                     34.0              100.0   \n",
       "       2020-09-30                     38.0              100.0   \n",
       "...                                    ...                ...   \n",
       "STC.V  2003-12-31                   1856.0              100.0   \n",
       "       2003-09-30                   1828.0              100.0   \n",
       "       2003-06-30                   2252.0              100.0   \n",
       "       2003-03-31                   1712.0              100.0   \n",
       "       2002-12-31                   1822.0              100.0   \n",
       "\n",
       "                   commonStockRepurchased  effectOfForexChangesOnCash  ...  \\\n",
       "symbol date                                                            ...   \n",
       "CMCSA  2021-09-30                  1089.0                       270.0  ...   \n",
       "       2021-06-30                  1089.0                      1624.0  ...   \n",
       "       2021-03-31                  1089.0                        83.0  ...   \n",
       "       2020-12-31                  1089.0                       130.0  ...   \n",
       "       2020-09-30                  1089.0                      1688.0  ...   \n",
       "...                                   ...                         ...  ...   \n",
       "STC.V  2003-12-31                  1089.0                       876.0  ...   \n",
       "       2003-09-30                  1089.0                       876.0  ...   \n",
       "       2003-06-30                  1089.0                       876.0  ...   \n",
       "       2003-03-31                  1089.0                       876.0  ...   \n",
       "       2002-12-31                  1089.0                       876.0  ...   \n",
       "\n",
       "                   intangibleAssets  longTermInvestments  taxAssets  \\\n",
       "symbol date                                                           \n",
       "CMCSA  2021-09-30            2690.0               1667.0        1.0   \n",
       "       2021-06-30            2691.0               1666.0        1.0   \n",
       "       2021-03-31            2691.0               1657.0        1.0   \n",
       "       2020-12-31            2691.0               1656.0        1.0   \n",
       "       2020-09-30            2691.0               1645.0        1.0   \n",
       "...                             ...                  ...        ...   \n",
       "STC.V  2003-12-31             632.0                 83.0      180.0   \n",
       "       2003-09-30             621.0                 83.0      178.0   \n",
       "       2003-06-30             619.0                 83.0      176.0   \n",
       "       2003-03-31             598.0                 83.0      136.0   \n",
       "       2002-12-31             581.0                 83.0      127.0   \n",
       "\n",
       "                   accountPayables  longTermDebt  deferredRevenueNonCurrent  \\\n",
       "symbol date                                                                   \n",
       "CMCSA  2021-09-30           4108.0        3468.0                        1.0   \n",
       "       2021-06-30           4106.0        3468.0                        1.0   \n",
       "       2021-03-31           4103.0        3469.0                        1.0   \n",
       "       2020-12-31           4104.0        3469.0                        1.0   \n",
       "       2020-09-30           4102.0        3469.0                        1.0   \n",
       "...                            ...           ...                        ...   \n",
       "STC.V  2003-12-31            143.0           1.0                        1.0   \n",
       "       2003-09-30            147.0           1.0                        1.0   \n",
       "       2003-06-30            120.0           1.0                        1.0   \n",
       "       2003-03-31            154.0           1.0                        1.0   \n",
       "       2002-12-31            128.0           1.0                        1.0   \n",
       "\n",
       "                   otherNonCurrentLiabilities  commonStock  totalDebt  \\\n",
       "symbol date                                                             \n",
       "CMCSA  2021-09-30                      3772.0       2336.0     4134.0   \n",
       "       2021-06-30                      3772.0       2343.0     4135.0   \n",
       "       2021-03-31                      3772.0       2343.0     4137.0   \n",
       "       2020-12-31                      3769.0       2336.0     4137.0   \n",
       "       2020-09-30                      3767.0       2336.0     4137.0   \n",
       "...                                       ...          ...        ...   \n",
       "STC.V  2003-12-31                       425.0          2.0        1.0   \n",
       "       2003-09-30                       425.0          2.0      114.0   \n",
       "       2003-06-30                       425.0          2.0      116.0   \n",
       "       2003-03-31                       425.0          2.0       16.0   \n",
       "       2002-12-31                       425.0          2.0      109.0   \n",
       "\n",
       "                   is_above_market_average  \n",
       "symbol date                                 \n",
       "CMCSA  2021-09-30                      0.0  \n",
       "       2021-06-30                      1.0  \n",
       "       2021-03-31                      1.0  \n",
       "       2020-12-31                      0.0  \n",
       "       2020-09-30                      0.0  \n",
       "...                                    ...  \n",
       "STC.V  2003-12-31                      0.0  \n",
       "       2003-09-30                      1.0  \n",
       "       2003-06-30                      0.0  \n",
       "       2003-03-31                      0.0  \n",
       "       2002-12-31                      1.0  \n",
       "\n",
       "[430057 rows x 33 columns]"
      ]
     },
     "execution_count": 2,
     "metadata": {},
     "output_type": "execute_result"
    }
   ],
   "source": [
    "CombinedDataFrame"
   ]
  },
  {
   "cell_type": "code",
   "execution_count": 3,
   "id": "f42b9397",
   "metadata": {},
   "outputs": [
    {
     "name": "stdout",
     "output_type": "stream",
     "text": [
      "<class 'pandas.core.frame.DataFrame'>\n",
      "MultiIndex: 430057 entries, ('CMCSA', Timestamp('2021-09-30 00:00:00')) to ('STC.V', Timestamp('2002-12-31 00:00:00'))\n",
      "Data columns (total 33 columns):\n",
      " #   Column                                Non-Null Count   Dtype  \n",
      "---  ------                                --------------   -----  \n",
      " 0   deferredIncomeTax                     430057 non-null  float64\n",
      " 1   stockBasedCompensation                430057 non-null  float64\n",
      " 2   changeInWorkingCapital                430057 non-null  float64\n",
      " 3   accountsReceivables                   430057 non-null  float64\n",
      " 4   netCashProvidedByOperatingActivities  430057 non-null  float64\n",
      " 5   acquisitionsNet                       430057 non-null  float64\n",
      " 6   otherInvestingActivites               430057 non-null  float64\n",
      " 7   commonStockIssued                     430057 non-null  float64\n",
      " 8   commonStockRepurchased                430057 non-null  float64\n",
      " 9   effectOfForexChangesOnCash            430057 non-null  float64\n",
      " 10  costOfRevenue                         430057 non-null  float64\n",
      " 11  grossProfit                           430057 non-null  float64\n",
      " 12  grossProfitRatio                      430057 non-null  float64\n",
      " 13  researchAndDevelopmentExpenses        430057 non-null  float64\n",
      " 14  sellingAndMarketingExpenses           430057 non-null  float64\n",
      " 15  otherExpenses                         430057 non-null  float64\n",
      " 16  depreciationAndAmortization           430057 non-null  float64\n",
      " 17  operatingIncomeRatio                  430057 non-null  float64\n",
      " 18  incomeTaxExpense                      430057 non-null  float64\n",
      " 19  eps                                   430057 non-null  float64\n",
      " 20  weightedAverageShsOut                 430057 non-null  float64\n",
      " 21  shortTermInvestments                  430057 non-null  float64\n",
      " 22  goodwill                              430057 non-null  float64\n",
      " 23  intangibleAssets                      430057 non-null  float64\n",
      " 24  longTermInvestments                   430057 non-null  float64\n",
      " 25  taxAssets                             430057 non-null  float64\n",
      " 26  accountPayables                       430057 non-null  float64\n",
      " 27  longTermDebt                          430057 non-null  float64\n",
      " 28  deferredRevenueNonCurrent             430057 non-null  float64\n",
      " 29  otherNonCurrentLiabilities            430057 non-null  float64\n",
      " 30  commonStock                           430057 non-null  float64\n",
      " 31  totalDebt                             430057 non-null  float64\n",
      " 32  is_above_market_average               430057 non-null  float64\n",
      "dtypes: float64(33)\n",
      "memory usage: 110.5+ MB\n"
     ]
    }
   ],
   "source": [
    "CombinedDataFrame.info()"
   ]
  },
  {
   "cell_type": "markdown",
   "id": "7b2d7d7d",
   "metadata": {},
   "source": [
    "## K nearest neighbor classifier"
   ]
  },
  {
   "cell_type": "code",
   "execution_count": 34,
   "id": "10accc84",
   "metadata": {},
   "outputs": [],
   "source": [
    "from sklearn.model_selection import train_test_split\n",
    "X_train, X_test, y_train, y_test = train_test_split(sample.drop(columns=\"is_above_market_average\"), \n",
    "                                                    sample[\"is_above_market_average\"],test_size=0.10, \n",
    "                                                    random_state=1)"
   ]
  },
  {
   "cell_type": "code",
   "execution_count": 6,
   "id": "44eaf0ab",
   "metadata": {},
   "outputs": [],
   "source": [
    "from sklearn.ensemble import RandomForestClassifier, AdaBoostClassifier, BaggingClassifier, ExtraTreesClassifier, GradientBoostingClassifier, RandomForestClassifier"
   ]
  },
  {
   "cell_type": "code",
   "execution_count": 7,
   "id": "fe5417a0",
   "metadata": {},
   "outputs": [],
   "source": [
    "from sklearn.gaussian_process import GaussianProcessClassifier\n",
    "from sklearn.gaussian_process.kernels import RBF"
   ]
  },
  {
   "cell_type": "code",
   "execution_count": 8,
   "id": "44f4368e",
   "metadata": {},
   "outputs": [],
   "source": [
    "from sklearn.linear_model import LogisticRegressionCV, PassiveAggressiveClassifier, RidgeClassifierCV, SGDClassifier, Perceptron"
   ]
  },
  {
   "cell_type": "code",
   "execution_count": 9,
   "id": "082f802c",
   "metadata": {},
   "outputs": [],
   "source": [
    "from sklearn.preprocessing import StandardScaler\n",
    "from sklearn.pipeline import make_pipeline"
   ]
  },
  {
   "cell_type": "code",
   "execution_count": 10,
   "id": "b43166b4",
   "metadata": {},
   "outputs": [],
   "source": [
    "from sklearn.naive_bayes import GaussianNB"
   ]
  },
  {
   "cell_type": "code",
   "execution_count": 11,
   "id": "1e844c5d",
   "metadata": {},
   "outputs": [],
   "source": [
    "from sklearn.neighbors import KNeighborsClassifier"
   ]
  },
  {
   "cell_type": "code",
   "execution_count": 12,
   "id": "ccd734ae",
   "metadata": {},
   "outputs": [],
   "source": [
    "from sklearn.svm import SVC, NuSVC, LinearSVC"
   ]
  },
  {
   "cell_type": "code",
   "execution_count": 13,
   "id": "c29b38ec",
   "metadata": {},
   "outputs": [],
   "source": [
    "from sklearn.tree import DecisionTreeClassifier, ExtraTreeClassifier"
   ]
  },
  {
   "cell_type": "code",
   "execution_count": 14,
   "id": "ff506252",
   "metadata": {},
   "outputs": [],
   "source": [
    "from sklearn.discriminant_analysis import LinearDiscriminantAnalysis, QuadraticDiscriminantAnalysis"
   ]
  },
  {
   "cell_type": "code",
   "execution_count": 15,
   "id": "b39ea385",
   "metadata": {},
   "outputs": [],
   "source": [
    "from xgboost import XGBClassifier"
   ]
  },
  {
   "cell_type": "code",
   "execution_count": 16,
   "id": "fdadbfbc",
   "metadata": {},
   "outputs": [],
   "source": [
    "from sklearn.metrics import accuracy_score"
   ]
  },
  {
   "cell_type": "code",
   "execution_count": 33,
   "id": "eb7b0230",
   "metadata": {},
   "outputs": [],
   "source": [
    "sample = CombinedDataFrame.sample(20000)"
   ]
  },
  {
   "cell_type": "markdown",
   "id": "ebe260cc",
   "metadata": {},
   "source": [
    "## Ensemble Classifications"
   ]
  },
  {
   "cell_type": "code",
   "execution_count": 17,
   "id": "aa1c43b0",
   "metadata": {},
   "outputs": [
    {
     "name": "stdout",
     "output_type": "stream",
     "text": [
      " Accuracy for Random Forest Classifier is 0.55\n"
     ]
    }
   ],
   "source": [
    "rfc = RandomForestClassifier(max_depth=2, random_state=0)\n",
    "rfc.fit(X_train, y_train)\n",
    "rfc_pred = rfc.predict(X_test)\n",
    "print (f\" Accuracy for Random Forest Classifier is {accuracy_score(y_test, rfc_pred)}\")"
   ]
  },
  {
   "cell_type": "code",
   "execution_count": 18,
   "id": "097c7768",
   "metadata": {},
   "outputs": [
    {
     "name": "stdout",
     "output_type": "stream",
     "text": [
      " Accuracy for AdaBoost is 0.543\n"
     ]
    }
   ],
   "source": [
    "ada = AdaBoostClassifier(n_estimators=100, random_state=0)\n",
    "ada.fit(X_train, y_train)\n",
    "ada_pred = ada.predict(X_test)\n",
    "print (f\" Accuracy for AdaBoost is { accuracy_score(y_test, ada_pred)}\")"
   ]
  },
  {
   "cell_type": "code",
   "execution_count": 19,
   "id": "a9df15ba",
   "metadata": {},
   "outputs": [
    {
     "name": "stdout",
     "output_type": "stream",
     "text": [
      " Accuracy for Bagging Classifier is 0.547\n"
     ]
    }
   ],
   "source": [
    "# runs slow\n",
    "bag = BaggingClassifier(base_estimator=SVC(), n_estimators=10, random_state=0)\n",
    "bag.fit(X_train, y_train)\n",
    "bag_pred = bag.predict(X_test)\n",
    "print (f\" Accuracy for Bagging Classifier is { accuracy_score(y_test, bag_pred)}\")"
   ]
  },
  {
   "cell_type": "code",
   "execution_count": 20,
   "id": "7d8e68e7",
   "metadata": {},
   "outputs": [
    {
     "name": "stdout",
     "output_type": "stream",
     "text": [
      " Accuracy for Extra Trees Classifier is 0.5315\n"
     ]
    }
   ],
   "source": [
    "xtra = ExtraTreesClassifier(n_estimators=100, random_state=0)\n",
    "xtra.fit(X_train, y_train)\n",
    "xtra_pred = xtra.predict(X_test)\n",
    "print (f\" Accuracy for Extra Trees Classifier is { accuracy_score(y_test, xtra_pred)}\")"
   ]
  },
  {
   "cell_type": "code",
   "execution_count": 21,
   "id": "f2ffac16",
   "metadata": {},
   "outputs": [
    {
     "name": "stdout",
     "output_type": "stream",
     "text": [
      " Accuracy for Gradient Boosting Classifier is 0.5345\n"
     ]
    }
   ],
   "source": [
    "gbc = GradientBoostingClassifier(n_estimators=100, learning_rate=1.0, max_depth=1, random_state=0)\n",
    "gbc.fit(X_train, y_train)\n",
    "gbc_pred = gbc.predict(X_test)\n",
    "print (f\" Accuracy for Gradient Boosting Classifier is { accuracy_score(y_test, gbc_pred)}\")"
   ]
  },
  {
   "cell_type": "markdown",
   "id": "6903bc45",
   "metadata": {},
   "source": [
    "## Gaussian Process"
   ]
  },
  {
   "cell_type": "code",
   "execution_count": 22,
   "id": "d7a4dddb",
   "metadata": {},
   "outputs": [
    {
     "name": "stdout",
     "output_type": "stream",
     "text": [
      " Accuracy for Gradient Process Classifier is 0.501\n"
     ]
    }
   ],
   "source": [
    "#idk why doesn't work / slow\n",
    "kernel = 1.0 * RBF(1.0)\n",
    "gpc = GaussianProcessClassifier(kernel = kernel, random_state=0)\n",
    "gpc.fit(X_train, y_train)\n",
    "gpc_pred = gpc.predict(X_test)\n",
    "print (f\" Accuracy for Gradient Process Classifier is { accuracy_score(y_test, gpc_pred)}\")"
   ]
  },
  {
   "cell_type": "markdown",
   "id": "4fc2d20f",
   "metadata": {},
   "source": [
    "## Linear Models"
   ]
  },
  {
   "cell_type": "code",
   "execution_count": 23,
   "id": "190649a4",
   "metadata": {},
   "outputs": [
    {
     "name": "stdout",
     "output_type": "stream",
     "text": [
      " Accuracy for Logistic Regression Cross Validation is 0.5465\n"
     ]
    }
   ],
   "source": [
    "lrcv = LogisticRegressionCV(cv=5, random_state=0)\n",
    "lrcv.fit(X_train, y_train)\n",
    "lrcv_pred = lrcv.predict(X_test)\n",
    "print (f\" Accuracy for Logistic Regression Cross Validation is { accuracy_score(y_test, lrcv_pred)}\")"
   ]
  },
  {
   "cell_type": "code",
   "execution_count": 24,
   "id": "a8ab2f12",
   "metadata": {},
   "outputs": [
    {
     "name": "stdout",
     "output_type": "stream",
     "text": [
      " Accuracy for Passive Aggressive Classifier is 0.4995\n"
     ]
    }
   ],
   "source": [
    "from sklearn.linear_model import PassiveAggressiveClassifier\n",
    "pac = PassiveAggressiveClassifier(max_iter=1000, random_state=0, tol=1e-3)\n",
    "pac.fit(X_train, y_train)\n",
    "pac_pred = pac.predict(X_test)\n",
    "print (f\" Accuracy for Passive Aggressive Classifier is { accuracy_score(y_test, pac_pred)}\")"
   ]
  },
  {
   "cell_type": "code",
   "execution_count": 25,
   "id": "807d5d06",
   "metadata": {},
   "outputs": [
    {
     "name": "stdout",
     "output_type": "stream",
     "text": [
      " Accuracy for RidgeClassifier is 0.5425\n"
     ]
    }
   ],
   "source": [
    "ridg = RidgeClassifierCV()\n",
    "ridg.fit(X_train, y_train)\n",
    "ridg_pred = ridg.predict(X_test)\n",
    "print (f\" Accuracy for RidgeClassifier is { accuracy_score(y_test, ridg_pred)}\")"
   ]
  },
  {
   "cell_type": "code",
   "execution_count": 26,
   "id": "15dd1f66",
   "metadata": {},
   "outputs": [
    {
     "name": "stdout",
     "output_type": "stream",
     "text": [
      " Accuracy for SGD Classifier is 0.516\n"
     ]
    }
   ],
   "source": [
    "sgd = make_pipeline(StandardScaler(), SGDClassifier(max_iter=1000, tol=1e-3))\n",
    "sgd.fit(X_train, y_train)\n",
    "sgd_pred = sgd.predict(X_test)\n",
    "print (f\" Accuracy for SGD Classifier is { accuracy_score(y_test, sgd_pred)}\")"
   ]
  },
  {
   "cell_type": "code",
   "execution_count": 27,
   "id": "c52c211c",
   "metadata": {},
   "outputs": [
    {
     "name": "stdout",
     "output_type": "stream",
     "text": [
      " Accuracy for Perceptron Classifier is 0.515\n"
     ]
    }
   ],
   "source": [
    "per = Perceptron(tol = 1e-3, random_state=0)\n",
    "per.fit(X_train, y_train)\n",
    "per_pred = per.predict(X_test)\n",
    "print (f\" Accuracy for Perceptron Classifier is { accuracy_score(y_test, per_pred)}\")"
   ]
  },
  {
   "cell_type": "markdown",
   "id": "83c690ee",
   "metadata": {},
   "source": [
    "## Naive Bayes"
   ]
  },
  {
   "cell_type": "code",
   "execution_count": 28,
   "id": "186a1d79",
   "metadata": {},
   "outputs": [
    {
     "name": "stdout",
     "output_type": "stream",
     "text": [
      " Accuracy for Gassuian Naive Bayes is 0.529\n"
     ]
    }
   ],
   "source": [
    "gnb = GaussianNB()\n",
    "gnb.fit(X_train, y_train)\n",
    "gnb_pred = gnb.predict(X_test)\n",
    "print (f\" Accuracy for Gassuian Naive Bayes is { accuracy_score(y_test, gnb_pred)}\")"
   ]
  },
  {
   "cell_type": "markdown",
   "id": "7c3e188e",
   "metadata": {},
   "source": [
    "## Neighbors"
   ]
  },
  {
   "cell_type": "code",
   "execution_count": 29,
   "id": "db8a2729",
   "metadata": {},
   "outputs": [
    {
     "name": "stdout",
     "output_type": "stream",
     "text": [
      " Accuracy for k-nn is 0.5125\n"
     ]
    }
   ],
   "source": [
    "knn = KNeighborsClassifier(n_neighbors=10)\n",
    "knn.fit(X_train, y_train)\n",
    "knn_pred = knn.predict(X_test)\n",
    "print (f\" Accuracy for k-nn is {accuracy_score(y_test, knn_pred)}\")\n"
   ]
  },
  {
   "cell_type": "markdown",
   "id": "9520ad2e",
   "metadata": {},
   "source": [
    "## SVM"
   ]
  },
  {
   "cell_type": "code",
   "execution_count": 30,
   "id": "e0f719ee",
   "metadata": {},
   "outputs": [
    {
     "name": "stdout",
     "output_type": "stream",
     "text": [
      " Accuracy for SVM is 0.543\n"
     ]
    }
   ],
   "source": [
    "#takes forever\n",
    "svc = make_pipeline(StandardScaler(), SVC(gamma='auto'))\n",
    "svc.fit(X_train, y_train)\n",
    "svc_pred = svc.predict(X_test)\n",
    "print (f\" Accuracy for SVM is { accuracy_score(y_test, svc_pred)}\")"
   ]
  },
  {
   "cell_type": "code",
   "execution_count": 31,
   "id": "31781132",
   "metadata": {},
   "outputs": [
    {
     "name": "stdout",
     "output_type": "stream",
     "text": [
      " Accuracy for NuSVC is 0.5275\n"
     ]
    }
   ],
   "source": [
    "nsvc = make_pipeline(StandardScaler(), NuSVC(probability=True))\n",
    "nsvc.fit(X_train, y_train)\n",
    "nsvc_pred = nsvc.predict(X_test)\n",
    "print(f\" Accuracy for NuSVC is { accuracy_score(y_test, nsvc_pred)}\")"
   ]
  },
  {
   "cell_type": "code",
   "execution_count": 32,
   "id": "b2457fea",
   "metadata": {},
   "outputs": [
    {
     "name": "stdout",
     "output_type": "stream",
     "text": [
      " Accuracy for LinearSVC is 0.5425\n"
     ]
    },
    {
     "name": "stderr",
     "output_type": "stream",
     "text": [
      "D:\\5523\\Dev\\lib\\site-packages\\sklearn\\svm\\_base.py:985: ConvergenceWarning: Liblinear failed to converge, increase the number of iterations.\n",
      "  warnings.warn(\"Liblinear failed to converge, increase \"\n"
     ]
    }
   ],
   "source": [
    "linsvc = make_pipeline(StandardScaler(), LinearSVC(random_state=0, tol=1e-5))\n",
    "linsvc.fit(X_train, y_train)\n",
    "linsvc_pred = linsvc.predict(X_test)\n",
    "print(f\" Accuracy for LinearSVC is { accuracy_score(y_test, linsvc_pred)}\")"
   ]
  },
  {
   "cell_type": "markdown",
   "id": "8820c7a5",
   "metadata": {},
   "source": [
    "## Tree"
   ]
  },
  {
   "cell_type": "code",
   "execution_count": 33,
   "id": "5e0c5190",
   "metadata": {},
   "outputs": [
    {
     "name": "stdout",
     "output_type": "stream",
     "text": [
      " Accuracy for Decision Tree is 0.547\n"
     ]
    }
   ],
   "source": [
    "dtc = DecisionTreeClassifier(max_depth=5, random_state=0)\n",
    "dtc.fit(X_train, y_train)\n",
    "dtc_pred = dtc.predict(X_test)\n",
    "print (f\" Accuracy for Decision Tree is { accuracy_score(y_test, dtc_pred)}\")"
   ]
  },
  {
   "cell_type": "code",
   "execution_count": 34,
   "id": "6cfd548d",
   "metadata": {},
   "outputs": [
    {
     "name": "stdout",
     "output_type": "stream",
     "text": [
      " Accuracy for Extra Tree Classifier is 0.5085\n"
     ]
    }
   ],
   "source": [
    "xtrat = ExtraTreeClassifier(random_state=0)\n",
    "xtrat.fit(X_train, y_train)\n",
    "xtrat_pred = xtrat.predict(X_test)\n",
    "print (f\" Accuracy for Extra Tree Classifier is { accuracy_score(y_test, xtrat_pred)}\")"
   ]
  },
  {
   "cell_type": "markdown",
   "id": "2a484e21",
   "metadata": {},
   "source": [
    "## Discriminant Analysis"
   ]
  },
  {
   "cell_type": "code",
   "execution_count": 35,
   "id": "6d688b60",
   "metadata": {},
   "outputs": [
    {
     "name": "stdout",
     "output_type": "stream",
     "text": [
      " Accuracy for Linear Discriminant Analysis is 0.5425\n"
     ]
    }
   ],
   "source": [
    "lda = LinearDiscriminantAnalysis()\n",
    "lda.fit(X_train, y_train)\n",
    "lda_pred = lda.predict(X_test)\n",
    "print (f\" Accuracy for Linear Discriminant Analysis is { accuracy_score(y_test, lda_pred)}\")"
   ]
  },
  {
   "cell_type": "code",
   "execution_count": 36,
   "id": "b9606c6f",
   "metadata": {},
   "outputs": [
    {
     "name": "stdout",
     "output_type": "stream",
     "text": [
      " Accuracy for Quadratic Discriminant Analysis is 0.533\n"
     ]
    }
   ],
   "source": [
    "qda = QuadraticDiscriminantAnalysis()\n",
    "qda.fit(X_train, y_train)\n",
    "qda_pred = qda.predict(X_test)\n",
    "print(f\" Accuracy for Quadratic Discriminant Analysis is { accuracy_score(y_test, qda_pred)}\")"
   ]
  },
  {
   "cell_type": "markdown",
   "id": "e2052a88",
   "metadata": {},
   "source": [
    "## XGBoost"
   ]
  },
  {
   "cell_type": "code",
   "execution_count": 37,
   "id": "39d8484c",
   "metadata": {},
   "outputs": [
    {
     "name": "stderr",
     "output_type": "stream",
     "text": [
      "D:\\5523\\Dev\\lib\\site-packages\\xgboost\\sklearn.py:1224: UserWarning: The use of label encoder in XGBClassifier is deprecated and will be removed in a future release. To remove this warning, do the following: 1) Pass option use_label_encoder=False when constructing XGBClassifier object; and 2) Encode your labels (y) as integers starting with 0, i.e. 0, 1, 2, ..., [num_class - 1].\n",
      "  warnings.warn(label_encoder_deprecation_msg, UserWarning)\n"
     ]
    },
    {
     "name": "stdout",
     "output_type": "stream",
     "text": [
      "[05:08:45] WARNING: C:/Users/Administrator/workspace/xgboost-win64_release_1.5.1/src/learner.cc:1115: Starting in XGBoost 1.3.0, the default evaluation metric used with the objective 'binary:logistic' was changed from 'error' to 'logloss'. Explicitly set eval_metric if you'd like to restore the old behavior.\n",
      " Accuracy for XGBoost Classifier is 0.549\n"
     ]
    }
   ],
   "source": [
    "xgbc = XGBClassifier()\n",
    "xgbc.fit(X_train, y_train)\n",
    "xgbc_pred = xgbc.predict(X_test)\n",
    "print(f\" Accuracy for XGBoost Classifier is { accuracy_score(y_test, xgbc_pred)}\")"
   ]
  },
  {
   "cell_type": "markdown",
   "id": "568f0dba",
   "metadata": {},
   "source": [
    "## Classifier Visualization"
   ]
  },
  {
   "cell_type": "code",
   "execution_count": 18,
   "id": "bf29485b",
   "metadata": {},
   "outputs": [],
   "source": [
    "Classifier_Init = ['Classifier Name', 'Classifier Accuracy']\n",
    "ClassifierComp = pd.DataFrame(columns = Classifier_Init)"
   ]
  },
  {
   "cell_type": "code",
   "execution_count": 21,
   "id": "dc278fa1",
   "metadata": {},
   "outputs": [],
   "source": [
    "ClassifierComp.loc[0, 'Classifier Name'] = \"RandomForestClassifier\"\n",
    "ClassifierComp.loc[1, 'Classifier Name'] = \"XGBClassifier\"\n",
    "ClassifierComp.loc[2, 'Classifier Name'] = \"BaggingClassifier\"\n",
    "ClassifierComp.loc[3, 'Classifier Name'] = \"DecisionTreeClassifier\"\n",
    "ClassifierComp.loc[4, 'Classifier Name'] = \"LogisticRegressionCV\"\n",
    "ClassifierComp.loc[5, 'Classifier Name'] = \"AdaBoost\"\n",
    "ClassifierComp.loc[6, 'Classifier Name'] = \"SVC\"\n",
    "ClassifierComp.loc[7, 'Classifier Name'] = \"RidgeClassifierCV\"\n",
    "ClassifierComp.loc[8, 'Classifier Name'] = \"LinearDiscriminantAnalysis\"\n",
    "ClassifierComp.loc[9, 'Classifier Name'] = \"LinearSVC\"\n",
    "ClassifierComp.loc[10, 'Classifier Name'] = \"GradientBoostingClassifier\"\n",
    "ClassifierComp.loc[11, 'Classifier Name'] = \"QuadraticDiscriminantAnalysis\"\n",
    "ClassifierComp.loc[12, 'Classifier Name'] = \"ExtraTreesClassifier\"\n",
    "ClassifierComp.loc[13, 'Classifier Name'] = \"GaussianNB\"\n",
    "ClassifierComp.loc[14, 'Classifier Name'] = \"Neural Net\"\n",
    "ClassifierComp.loc[15, 'Classifier Name'] = \"NuSVC\"\n",
    "ClassifierComp.loc[16, 'Classifier Name'] = \"SGDClassifier\"\n",
    "ClassifierComp.loc[17, 'Classifier Name'] = \"Perceptron\"\n",
    "ClassifierComp.loc[18, 'Classifier Name'] = \"KNeighborsClassifier\"\n",
    "ClassifierComp.loc[19, 'Classifier Name'] = \"ExtraTreeClassifier\"\n",
    "ClassifierComp.loc[20, 'Classifier Name'] = \"GaussianProcessClassifier\"\n",
    "ClassifierComp.loc[21, 'Classifier Name'] = \"PassiveAggressiveClassifier\"\n",
    "\n",
    "ClassifierComp.loc[0, 'Classifier Accuracy'] = 0.55\n",
    "ClassifierComp.loc[1, 'Classifier Accuracy'] = 0.549\n",
    "ClassifierComp.loc[2, 'Classifier Accuracy'] = 0.547\n",
    "ClassifierComp.loc[3, 'Classifier Accuracy'] = 0.547\n",
    "ClassifierComp.loc[4, 'Classifier Accuracy'] = 0.5465\n",
    "ClassifierComp.loc[5, 'Classifier Accuracy'] = 0.543\n",
    "ClassifierComp.loc[6, 'Classifier Accuracy'] = 0.543\n",
    "ClassifierComp.loc[7, 'Classifier Accuracy'] = 0.5425\n",
    "ClassifierComp.loc[8, 'Classifier Accuracy'] = 0.5425\n",
    "ClassifierComp.loc[9, 'Classifier Accuracy'] = 0.5425\n",
    "ClassifierComp.loc[10, 'Classifier Accuracy'] = 0.5345\n",
    "ClassifierComp.loc[11, 'Classifier Accuracy'] = 0.533\n",
    "ClassifierComp.loc[12, 'Classifier Accuracy'] = 0.5315\n",
    "ClassifierComp.loc[13, 'Classifier Accuracy'] = 0.529\n",
    "ClassifierComp.loc[14, 'Classifier Accuracy'] = 0.528\n",
    "ClassifierComp.loc[15, 'Classifier Accuracy'] = 0.5275\n",
    "ClassifierComp.loc[16, 'Classifier Accuracy'] = 0.516\n",
    "ClassifierComp.loc[17, 'Classifier Accuracy'] = 0.515\n",
    "ClassifierComp.loc[18, 'Classifier Accuracy'] = 0.5125\n",
    "ClassifierComp.loc[19, 'Classifier Accuracy'] = 0.5085\n",
    "ClassifierComp.loc[20, 'Classifier Accuracy'] = 0.501\n",
    "ClassifierComp.loc[21, 'Classifier Accuracy'] = 0.4995"
   ]
  },
  {
   "cell_type": "code",
   "execution_count": 22,
   "id": "67b4e0da",
   "metadata": {},
   "outputs": [
    {
     "data": {
      "text/plain": [
       "Text(0, 0.5, 'Classifier')"
      ]
     },
     "execution_count": 22,
     "metadata": {},
     "output_type": "execute_result"
    },
    {
     "data": {
      "image/png": "[encoded data removed]",
      "text/plain": [
       "<Figure size 432x288 with 1 Axes>"
      ]
     },
     "metadata": {
      "needs_background": "light"
     },
     "output_type": "display_data"
    }
   ],
   "source": [
    "sns.barplot(x ='Classifier Accuracy', y = 'Classifier Name', data = ClassifierComp, color = 'c')\n",
    "plt.title('Classifier Accuracy Score \\n')\n",
    "plt.xlabel('Accuracy Score (%)')\n",
    "plt.ylabel('Classifier')"
   ]
  },
  {
   "cell_type": "markdown",
   "id": "425cc430",
   "metadata": {},
   "source": [
    "# He said we really need to dig down into our accuracies and analyze them"
   ]
  },
  {
   "cell_type": "code",
   "execution_count": 50,
   "id": "e6fb1e52",
   "metadata": {},
   "outputs": [],
   "source": [
    "#Common Model Algorithms\n",
    "from sklearn import svm, tree, linear_model, neighbors, naive_bayes, ensemble, discriminant_analysis, gaussian_process\n",
    "from xgboost import XGBClassifier\n",
    "\n",
    "#Common Model Helpers\n",
    "from sklearn.preprocessing import OneHotEncoder, LabelEncoder\n",
    "from sklearn import feature_selection\n",
    "from sklearn import model_selection\n",
    "from sklearn import metrics\n",
    "\n",
    "#Visualization\n",
    "import matplotlib as mpl\n",
    "import matplotlib.pyplot as plt\n",
    "import matplotlib.pylab as pylab\n",
    "import seaborn as sns\n",
    "from pandas.plotting import scatter_matrix\n",
    "\n",
    "#Configure Visualization Defaults\n",
    "#%matplotlib inline = show plots in Jupyter Notebook browser\n",
    "%matplotlib inline\n",
    "mpl.style.use('ggplot')\n",
    "sns.set_style('white')\n",
    "pylab.rcParams['figure.figsize'] = 12,8"
   ]
  },
  {
   "cell_type": "code",
   "execution_count": 39,
   "id": "22f4c4ac",
   "metadata": {},
   "outputs": [
    {
     "name": "stdout",
     "output_type": "stream",
     "text": [
      " Accuracy for Neural Net is 0.528\n"
     ]
    }
   ],
   "source": [
    "from sklearn.neural_network import MLPClassifier \n",
    "mlp = MLPClassifier(alpha=1, max_iter=1000)\n",
    "mlp.fit(X_train, y_train)\n",
    "mlp_pred = mlp.predict(X_test)\n",
    "print (f\" Accuracy for Neural Net is { accuracy_score(y_test, mlp_pred)}\")"
   ]
  },
  {
   "cell_type": "code",
   "execution_count": null,
   "id": "640fd17e",
   "metadata": {},
   "outputs": [],
   "source": []
  },
  {
   "cell_type": "code",
   "execution_count": 28,
   "id": "c921997b",
   "metadata": {},
   "outputs": [],
   "source": [
    "#extra sample call\n",
    "# sample = CombinedDataFrame.sample(10000)"
   ]
  },
  {
   "cell_type": "markdown",
   "id": "59cd0e02",
   "metadata": {},
   "source": [
    "## Decision Tree Classifier Hyper-Parameter Tuning Model"
   ]
  },
  {
   "cell_type": "code",
   "execution_count": 20,
   "id": "178a3f73",
   "metadata": {},
   "outputs": [],
   "source": [
    "from sklearn import svm\n",
    "from sklearn.ensemble import RandomForestClassifier, AdaBoostClassifier\n",
    "from sklearn.linear_model import LogisticRegression\n",
    "from sklearn.naive_bayes import GaussianNB\n",
    "from sklearn.naive_bayes import MultinomialNB\n",
    "from sklearn.tree import DecisionTreeClassifier\n",
    "from sklearn.neural_network import MLPClassifier\n",
    "from sklearn.ensemble import ExtraTreesClassifier"
   ]
  },
  {
   "cell_type": "code",
   "execution_count": null,
   "id": "762d75e6",
   "metadata": {},
   "outputs": [],
   "source": []
  },
  {
   "cell_type": "code",
   "execution_count": 21,
   "id": "3deaea35",
   "metadata": {},
   "outputs": [],
   "source": [
    "#models to add:\n",
    "#BaggingClassifier(slow), RidgeClassifier\n",
    "model_params = {\n",
    "    'random_forest': {\n",
    "        'model': RandomForestClassifier(),\n",
    "        'params': {\n",
    "            'max_depth': [1,2,4,6,8,10,20],\n",
    "            'criterion': ['gini','entropy'],\n",
    "            'n_estimators': [1,5,10,100]\n",
    "        }\n",
    "    },\n",
    "    'XGBoost': {\n",
    "        'model': XGBClassifier(),\n",
    "        'params': {\n",
    "            'booster': ['gbtree', 'gblinear', 'dart']\n",
    "        }\n",
    "    },\n",
    "    'decision_tree': {\n",
    "        'model': DecisionTreeClassifier(),\n",
    "        'params': {\n",
    "            'criterion': ['gini','entropy'],\n",
    "            'max_depth': [1,2,4,6,8,10,20]\n",
    "        }\n",
    "    },\n",
    "    'logistic_regression' : {\n",
    "        'model': LogisticRegression(solver='liblinear',multi_class='auto'),\n",
    "        'params': {\n",
    "            'C': [1,5,10]\n",
    "        }\n",
    "    },\n",
    "    'adaboost': {\n",
    "        'model': AdaBoostClassifier(n_estimators=100, random_state=0),\n",
    "        'params': {\n",
    "        }\n",
    "    },\n",
    "    'gradient_boost': {\n",
    "        'model': GradientBoostingClassifier(n_estimators =100, random_state=0),\n",
    "        'params': {\n",
    "            'max_depth': [1,2,4,6,10],\n",
    "            'learning_rate': [0.1, 1.0]\n",
    "        }\n",
    "    },\n",
    "    'extra_trees': {\n",
    "        'model': ExtraTreesClassifier(random_state=0),\n",
    "        'params': {\n",
    "            'criterion': ['gini', 'entropy'],\n",
    "            'max_depth': [1,2,4,6,8,10,20],\n",
    "            'max_features': ['sqrt', 'log2']\n",
    "        }\n",
    "    }\n",
    "}\n",
    "#    ,\n",
    "#    'svm': {\n",
    "#        'model': svm.SVC(gamma='auto'),\n",
    "#        'params': {\n",
    "#            'C': [1, 10, 20],\n",
    "#            'kernel': ['rbf', 'linear']\n",
    "#        }\n",
    "#    }"
   ]
  },
  {
   "cell_type": "code",
   "execution_count": 32,
   "id": "e72bf829",
   "metadata": {},
   "outputs": [
    {
     "name": "stdout",
     "output_type": "stream",
     "text": [
      "{'criterion': 'entropy', 'max_depth': 8, 'n_estimators': 5}\n",
      "[12:34:25] WARNING: C:/Users/Administrator/workspace/xgboost-win64_release_1.5.1/src/learner.cc:1115: Starting in XGBoost 1.3.0, the default evaluation metric used with the objective 'binary:logistic' was changed from 'error' to 'logloss'. Explicitly set eval_metric if you'd like to restore the old behavior.\n",
      "[12:34:26] WARNING: C:/Users/Administrator/workspace/xgboost-win64_release_1.5.1/src/learner.cc:1115: Starting in XGBoost 1.3.0, the default evaluation metric used with the objective 'binary:logistic' was changed from 'error' to 'logloss'. Explicitly set eval_metric if you'd like to restore the old behavior.\n"
     ]
    },
    {
     "name": "stderr",
     "output_type": "stream",
     "text": [
      "D:\\5523\\Dev\\lib\\site-packages\\xgboost\\sklearn.py:1224: UserWarning: The use of label encoder in XGBClassifier is deprecated and will be removed in a future release. To remove this warning, do the following: 1) Pass option use_label_encoder=False when constructing XGBClassifier object; and 2) Encode your labels (y) as integers starting with 0, i.e. 0, 1, 2, ..., [num_class - 1].\n",
      "  warnings.warn(label_encoder_deprecation_msg, UserWarning)\n",
      "D:\\5523\\Dev\\lib\\site-packages\\xgboost\\sklearn.py:1224: UserWarning: The use of label encoder in XGBClassifier is deprecated and will be removed in a future release. To remove this warning, do the following: 1) Pass option use_label_encoder=False when constructing XGBClassifier object; and 2) Encode your labels (y) as integers starting with 0, i.e. 0, 1, 2, ..., [num_class - 1].\n",
      "  warnings.warn(label_encoder_deprecation_msg, UserWarning)\n",
      "D:\\5523\\Dev\\lib\\site-packages\\xgboost\\sklearn.py:1224: UserWarning: The use of label encoder in XGBClassifier is deprecated and will be removed in a future release. To remove this warning, do the following: 1) Pass option use_label_encoder=False when constructing XGBClassifier object; and 2) Encode your labels (y) as integers starting with 0, i.e. 0, 1, 2, ..., [num_class - 1].\n",
      "  warnings.warn(label_encoder_deprecation_msg, UserWarning)\n",
      "D:\\5523\\Dev\\lib\\site-packages\\xgboost\\sklearn.py:1224: UserWarning: The use of label encoder in XGBClassifier is deprecated and will be removed in a future release. To remove this warning, do the following: 1) Pass option use_label_encoder=False when constructing XGBClassifier object; and 2) Encode your labels (y) as integers starting with 0, i.e. 0, 1, 2, ..., [num_class - 1].\n",
      "  warnings.warn(label_encoder_deprecation_msg, UserWarning)\n"
     ]
    },
    {
     "name": "stdout",
     "output_type": "stream",
     "text": [
      "[12:34:26] WARNING: C:/Users/Administrator/workspace/xgboost-win64_release_1.5.1/src/learner.cc:1115: Starting in XGBoost 1.3.0, the default evaluation metric used with the objective 'binary:logistic' was changed from 'error' to 'logloss'. Explicitly set eval_metric if you'd like to restore the old behavior.\n",
      "[12:34:26] WARNING: C:/Users/Administrator/workspace/xgboost-win64_release_1.5.1/src/learner.cc:1115: Starting in XGBoost 1.3.0, the default evaluation metric used with the objective 'binary:logistic' was changed from 'error' to 'logloss'. Explicitly set eval_metric if you'd like to restore the old behavior.\n"
     ]
    },
    {
     "name": "stderr",
     "output_type": "stream",
     "text": [
      "D:\\5523\\Dev\\lib\\site-packages\\xgboost\\sklearn.py:1224: UserWarning: The use of label encoder in XGBClassifier is deprecated and will be removed in a future release. To remove this warning, do the following: 1) Pass option use_label_encoder=False when constructing XGBClassifier object; and 2) Encode your labels (y) as integers starting with 0, i.e. 0, 1, 2, ..., [num_class - 1].\n",
      "  warnings.warn(label_encoder_deprecation_msg, UserWarning)\n",
      "D:\\5523\\Dev\\lib\\site-packages\\xgboost\\sklearn.py:1224: UserWarning: The use of label encoder in XGBClassifier is deprecated and will be removed in a future release. To remove this warning, do the following: 1) Pass option use_label_encoder=False when constructing XGBClassifier object; and 2) Encode your labels (y) as integers starting with 0, i.e. 0, 1, 2, ..., [num_class - 1].\n",
      "  warnings.warn(label_encoder_deprecation_msg, UserWarning)\n",
      "D:\\5523\\Dev\\lib\\site-packages\\xgboost\\sklearn.py:1224: UserWarning: The use of label encoder in XGBClassifier is deprecated and will be removed in a future release. To remove this warning, do the following: 1) Pass option use_label_encoder=False when constructing XGBClassifier object; and 2) Encode your labels (y) as integers starting with 0, i.e. 0, 1, 2, ..., [num_class - 1].\n",
      "  warnings.warn(label_encoder_deprecation_msg, UserWarning)\n",
      "D:\\5523\\Dev\\lib\\site-packages\\xgboost\\sklearn.py:1224: UserWarning: The use of label encoder in XGBClassifier is deprecated and will be removed in a future release. To remove this warning, do the following: 1) Pass option use_label_encoder=False when constructing XGBClassifier object; and 2) Encode your labels (y) as integers starting with 0, i.e. 0, 1, 2, ..., [num_class - 1].\n",
      "  warnings.warn(label_encoder_deprecation_msg, UserWarning)\n"
     ]
    },
    {
     "name": "stdout",
     "output_type": "stream",
     "text": [
      "[12:34:26] WARNING: C:/Users/Administrator/workspace/xgboost-win64_release_1.5.1/src/learner.cc:1115: Starting in XGBoost 1.3.0, the default evaluation metric used with the objective 'binary:logistic' was changed from 'error' to 'logloss'. Explicitly set eval_metric if you'd like to restore the old behavior.\n",
      "[12:34:26] WARNING: C:/Users/Administrator/workspace/xgboost-win64_release_1.5.1/src/learner.cc:1115: Starting in XGBoost 1.3.0, the default evaluation metric used with the objective 'binary:logistic' was changed from 'error' to 'logloss'. Explicitly set eval_metric if you'd like to restore the old behavior.\n",
      "[12:34:26] WARNING: C:/Users/Administrator/workspace/xgboost-win64_release_1.5.1/src/learner.cc:1115: Starting in XGBoost 1.3.0, the default evaluation metric used with the objective 'binary:logistic' was changed from 'error' to 'logloss'. Explicitly set eval_metric if you'd like to restore the old behavior.\n",
      "[12:34:26] WARNING: C:/Users/Administrator/workspace/xgboost-win64_release_1.5.1/src/learner.cc:1115: Starting in XGBoost 1.3.0, the default evaluation metric used with the objective 'binary:logistic' was changed from 'error' to 'logloss'. Explicitly set eval_metric if you'd like to restore the old behavior.\n",
      "[12:34:26] WARNING: C:/Users/Administrator/workspace/xgboost-win64_release_1.5.1/src/learner.cc:1115: Starting in XGBoost 1.3.0, the default evaluation metric used with the objective 'binary:logistic' was changed from 'error' to 'logloss'. Explicitly set eval_metric if you'd like to restore the old behavior.\n",
      "[12:34:26] WARNING: C:/Users/Administrator/workspace/xgboost-win64_release_1.5.1/src/learner.cc:1115: Starting in XGBoost 1.3.0, the default evaluation metric used with the objective 'binary:logistic' was changed from 'error' to 'logloss'. Explicitly set eval_metric if you'd like to restore the old behavior.\n",
      "[12:34:26] WARNING: C:/Users/Administrator/workspace/xgboost-win64_release_1.5.1/src/learner.cc:1115: Starting in XGBoost 1.3.0, the default evaluation metric used with the objective 'binary:logistic' was changed from 'error' to 'logloss'. Explicitly set eval_metric if you'd like to restore the old behavior.\n"
     ]
    },
    {
     "name": "stderr",
     "output_type": "stream",
     "text": [
      "D:\\5523\\Dev\\lib\\site-packages\\xgboost\\sklearn.py:1224: UserWarning: The use of label encoder in XGBClassifier is deprecated and will be removed in a future release. To remove this warning, do the following: 1) Pass option use_label_encoder=False when constructing XGBClassifier object; and 2) Encode your labels (y) as integers starting with 0, i.e. 0, 1, 2, ..., [num_class - 1].\n",
      "  warnings.warn(label_encoder_deprecation_msg, UserWarning)\n",
      "D:\\5523\\Dev\\lib\\site-packages\\xgboost\\sklearn.py:1224: UserWarning: The use of label encoder in XGBClassifier is deprecated and will be removed in a future release. To remove this warning, do the following: 1) Pass option use_label_encoder=False when constructing XGBClassifier object; and 2) Encode your labels (y) as integers starting with 0, i.e. 0, 1, 2, ..., [num_class - 1].\n",
      "  warnings.warn(label_encoder_deprecation_msg, UserWarning)\n",
      "D:\\5523\\Dev\\lib\\site-packages\\xgboost\\sklearn.py:1224: UserWarning: The use of label encoder in XGBClassifier is deprecated and will be removed in a future release. To remove this warning, do the following: 1) Pass option use_label_encoder=False when constructing XGBClassifier object; and 2) Encode your labels (y) as integers starting with 0, i.e. 0, 1, 2, ..., [num_class - 1].\n",
      "  warnings.warn(label_encoder_deprecation_msg, UserWarning)\n",
      "D:\\5523\\Dev\\lib\\site-packages\\xgboost\\sklearn.py:1224: UserWarning: The use of label encoder in XGBClassifier is deprecated and will be removed in a future release. To remove this warning, do the following: 1) Pass option use_label_encoder=False when constructing XGBClassifier object; and 2) Encode your labels (y) as integers starting with 0, i.e. 0, 1, 2, ..., [num_class - 1].\n",
      "  warnings.warn(label_encoder_deprecation_msg, UserWarning)\n"
     ]
    },
    {
     "name": "stdout",
     "output_type": "stream",
     "text": [
      "[12:34:27] WARNING: C:/Users/Administrator/workspace/xgboost-win64_release_1.5.1/src/learner.cc:1115: Starting in XGBoost 1.3.0, the default evaluation metric used with the objective 'binary:logistic' was changed from 'error' to 'logloss'. Explicitly set eval_metric if you'd like to restore the old behavior.\n"
     ]
    },
    {
     "name": "stderr",
     "output_type": "stream",
     "text": [
      "D:\\5523\\Dev\\lib\\site-packages\\xgboost\\sklearn.py:1224: UserWarning: The use of label encoder in XGBClassifier is deprecated and will be removed in a future release. To remove this warning, do the following: 1) Pass option use_label_encoder=False when constructing XGBClassifier object; and 2) Encode your labels (y) as integers starting with 0, i.e. 0, 1, 2, ..., [num_class - 1].\n",
      "  warnings.warn(label_encoder_deprecation_msg, UserWarning)\n"
     ]
    },
    {
     "name": "stdout",
     "output_type": "stream",
     "text": [
      "[12:34:27] WARNING: C:/Users/Administrator/workspace/xgboost-win64_release_1.5.1/src/learner.cc:1115: Starting in XGBoost 1.3.0, the default evaluation metric used with the objective 'binary:logistic' was changed from 'error' to 'logloss'. Explicitly set eval_metric if you'd like to restore the old behavior.\n"
     ]
    },
    {
     "name": "stderr",
     "output_type": "stream",
     "text": [
      "D:\\5523\\Dev\\lib\\site-packages\\xgboost\\sklearn.py:1224: UserWarning: The use of label encoder in XGBClassifier is deprecated and will be removed in a future release. To remove this warning, do the following: 1) Pass option use_label_encoder=False when constructing XGBClassifier object; and 2) Encode your labels (y) as integers starting with 0, i.e. 0, 1, 2, ..., [num_class - 1].\n",
      "  warnings.warn(label_encoder_deprecation_msg, UserWarning)\n"
     ]
    },
    {
     "name": "stdout",
     "output_type": "stream",
     "text": [
      "[12:34:28] WARNING: C:/Users/Administrator/workspace/xgboost-win64_release_1.5.1/src/learner.cc:1115: Starting in XGBoost 1.3.0, the default evaluation metric used with the objective 'binary:logistic' was changed from 'error' to 'logloss'. Explicitly set eval_metric if you'd like to restore the old behavior.\n"
     ]
    },
    {
     "name": "stderr",
     "output_type": "stream",
     "text": [
      "D:\\5523\\Dev\\lib\\site-packages\\xgboost\\sklearn.py:1224: UserWarning: The use of label encoder in XGBClassifier is deprecated and will be removed in a future release. To remove this warning, do the following: 1) Pass option use_label_encoder=False when constructing XGBClassifier object; and 2) Encode your labels (y) as integers starting with 0, i.e. 0, 1, 2, ..., [num_class - 1].\n",
      "  warnings.warn(label_encoder_deprecation_msg, UserWarning)\n"
     ]
    },
    {
     "name": "stdout",
     "output_type": "stream",
     "text": [
      "[12:34:29] WARNING: C:/Users/Administrator/workspace/xgboost-win64_release_1.5.1/src/learner.cc:1115: Starting in XGBoost 1.3.0, the default evaluation metric used with the objective 'binary:logistic' was changed from 'error' to 'logloss'. Explicitly set eval_metric if you'd like to restore the old behavior.\n"
     ]
    },
    {
     "name": "stderr",
     "output_type": "stream",
     "text": [
      "D:\\5523\\Dev\\lib\\site-packages\\xgboost\\sklearn.py:1224: UserWarning: The use of label encoder in XGBClassifier is deprecated and will be removed in a future release. To remove this warning, do the following: 1) Pass option use_label_encoder=False when constructing XGBClassifier object; and 2) Encode your labels (y) as integers starting with 0, i.e. 0, 1, 2, ..., [num_class - 1].\n",
      "  warnings.warn(label_encoder_deprecation_msg, UserWarning)\n"
     ]
    },
    {
     "name": "stdout",
     "output_type": "stream",
     "text": [
      "[12:34:30] WARNING: C:/Users/Administrator/workspace/xgboost-win64_release_1.5.1/src/learner.cc:1115: Starting in XGBoost 1.3.0, the default evaluation metric used with the objective 'binary:logistic' was changed from 'error' to 'logloss'. Explicitly set eval_metric if you'd like to restore the old behavior.\n",
      "{'booster': 'gbtree'}\n",
      "{'criterion': 'gini', 'max_depth': 1}\n",
      "{'C': 1}\n",
      "{}\n",
      "{'learning_rate': 1.0, 'max_depth': 10}\n",
      "{'criterion': 'gini', 'max_depth': 10, 'max_features': 'sqrt'}\n"
     ]
    },
    {
     "data": {
      "text/html": [
       "<div>\n",
       "<style scoped>\n",
       "    .dataframe tbody tr th:only-of-type {\n",
       "        vertical-align: middle;\n",
       "    }\n",
       "\n",
       "    .dataframe tbody tr th {\n",
       "        vertical-align: top;\n",
       "    }\n",
       "\n",
       "    .dataframe thead th {\n",
       "        text-align: right;\n",
       "    }\n",
       "</style>\n",
       "<table border=\"1\" class=\"dataframe\">\n",
       "  <thead>\n",
       "    <tr style=\"text-align: right;\">\n",
       "      <th></th>\n",
       "      <th>model</th>\n",
       "      <th>best_score</th>\n",
       "      <th>best_params</th>\n",
       "    </tr>\n",
       "  </thead>\n",
       "  <tbody>\n",
       "    <tr>\n",
       "      <th>0</th>\n",
       "      <td>random_forest</td>\n",
       "      <td>0.555</td>\n",
       "      <td>{'criterion': 'entropy', 'max_depth': 8, 'n_es...</td>\n",
       "    </tr>\n",
       "    <tr>\n",
       "      <th>1</th>\n",
       "      <td>XGBoost</td>\n",
       "      <td>0.525</td>\n",
       "      <td>{'booster': 'gbtree'}</td>\n",
       "    </tr>\n",
       "    <tr>\n",
       "      <th>2</th>\n",
       "      <td>decision_tree</td>\n",
       "      <td>0.557</td>\n",
       "      <td>{'criterion': 'gini', 'max_depth': 1}</td>\n",
       "    </tr>\n",
       "    <tr>\n",
       "      <th>3</th>\n",
       "      <td>logistic_regression</td>\n",
       "      <td>0.535</td>\n",
       "      <td>{'C': 1}</td>\n",
       "    </tr>\n",
       "    <tr>\n",
       "      <th>4</th>\n",
       "      <td>adaboost</td>\n",
       "      <td>0.477</td>\n",
       "      <td>{}</td>\n",
       "    </tr>\n",
       "    <tr>\n",
       "      <th>5</th>\n",
       "      <td>gradient_boost</td>\n",
       "      <td>0.542</td>\n",
       "      <td>{'learning_rate': 1.0, 'max_depth': 10}</td>\n",
       "    </tr>\n",
       "    <tr>\n",
       "      <th>6</th>\n",
       "      <td>extra_trees</td>\n",
       "      <td>0.528</td>\n",
       "      <td>{'criterion': 'gini', 'max_depth': 10, 'max_fe...</td>\n",
       "    </tr>\n",
       "  </tbody>\n",
       "</table>\n",
       "</div>"
      ],
      "text/plain": [
       "                 model  best_score  \\\n",
       "0        random_forest       0.555   \n",
       "1              XGBoost       0.525   \n",
       "2        decision_tree       0.557   \n",
       "3  logistic_regression       0.535   \n",
       "4             adaboost       0.477   \n",
       "5       gradient_boost       0.542   \n",
       "6          extra_trees       0.528   \n",
       "\n",
       "                                         best_params  \n",
       "0  {'criterion': 'entropy', 'max_depth': 8, 'n_es...  \n",
       "1                              {'booster': 'gbtree'}  \n",
       "2              {'criterion': 'gini', 'max_depth': 1}  \n",
       "3                                           {'C': 1}  \n",
       "4                                                 {}  \n",
       "5            {'learning_rate': 1.0, 'max_depth': 10}  \n",
       "6  {'criterion': 'gini', 'max_depth': 10, 'max_fe...  "
      ]
     },
     "execution_count": 32,
     "metadata": {},
     "output_type": "execute_result"
    }
   ],
   "source": [
    "from sklearn.model_selection import GridSearchCV\n",
    "scores = []\n",
    "\n",
    "for model_name, mp in model_params.items():\n",
    "    clf =  GridSearchCV(mp['model'], mp['params'], cv=5, return_train_score=False)\n",
    "    clf.fit(sample.drop(columns=\"is_above_market_average\"), sample[\"is_above_market_average\"])\n",
    "    scores.append({\n",
    "        'model': model_name,\n",
    "        'best_score': clf.best_score_,\n",
    "        'best_params': clf.best_params_\n",
    "    })\n",
    "    print(clf.best_params_)\n",
    "    \n",
    "df = pd.DataFrame(scores,columns=['model','best_score','best_params'])\n",
    "df\n"
   ]
  },
  {
   "cell_type": "code",
   "execution_count": 37,
   "id": "5956462e",
   "metadata": {},
   "outputs": [
    {
     "name": "stdout",
     "output_type": "stream",
     "text": [
      " Accuracy for Random Forest Classifier is 0.527\n",
      " Accuracy for Decision Tree is 0.5275\n",
      "[12:42:58] WARNING: C:/Users/Administrator/workspace/xgboost-win64_release_1.5.1/src/learner.cc:1115: Starting in XGBoost 1.3.0, the default evaluation metric used with the objective 'binary:logistic' was changed from 'error' to 'logloss'. Explicitly set eval_metric if you'd like to restore the old behavior.\n"
     ]
    },
    {
     "name": "stderr",
     "output_type": "stream",
     "text": [
      "D:\\5523\\Dev\\lib\\site-packages\\xgboost\\sklearn.py:1224: UserWarning: The use of label encoder in XGBClassifier is deprecated and will be removed in a future release. To remove this warning, do the following: 1) Pass option use_label_encoder=False when constructing XGBClassifier object; and 2) Encode your labels (y) as integers starting with 0, i.e. 0, 1, 2, ..., [num_class - 1].\n",
      "  warnings.warn(label_encoder_deprecation_msg, UserWarning)\n"
     ]
    },
    {
     "name": "stdout",
     "output_type": "stream",
     "text": [
      " Accuracy for XGBoost Classifier is 0.5045\n",
      " Accuracy for Extra Trees Classifier is 0.535\n",
      " Accuracy for Gradient Boosting Classifier is 0.5025\n"
     ]
    }
   ],
   "source": [
    "#Rerun on 20000 sample w/ hyperparameters tuned\n",
    "# randomforest\n",
    "rfc = RandomForestClassifier(criterion='entropy', max_depth=8, n_estimators=5)\n",
    "rfc.fit(X_train, y_train)\n",
    "rfc_pred = rfc.predict(X_test)\n",
    "print (f\" Accuracy for Random Forest Classifier is {accuracy_score(y_test, rfc_pred)}\")\n",
    "\n",
    "# decisiontree\n",
    "dtc = DecisionTreeClassifier(criterion='gini', max_depth=1)\n",
    "dtc.fit(X_train, y_train)\n",
    "dtc_pred = dtc.predict(X_test)\n",
    "print (f\" Accuracy for Decision Tree is { accuracy_score(y_test, dtc_pred)}\")\n",
    "\n",
    "# xgboost\n",
    "xgbc = XGBClassifier(booster='gbtree')\n",
    "xgbc.fit(X_train, y_train)\n",
    "xgbc_pred = xgbc.predict(X_test)\n",
    "print(f\" Accuracy for XGBoost Classifier is { accuracy_score(y_test, xgbc_pred)}\")\n",
    "\n",
    "# extra_trees\n",
    "xtras = ExtraTreesClassifier(criterion='gini', max_depth=10, max_features='sqrt')\n",
    "xtras.fit(X_train, y_train)\n",
    "xtras_pred = xtras.predict(X_test)\n",
    "print (f\" Accuracy for Extra Trees Classifier is { accuracy_score(y_test, xtras_pred)}\")\n",
    "\n",
    "# gradientBoost\n",
    "gbc = GradientBoostingClassifier(learning_rate=1.0, max_depth=10)\n",
    "gbc.fit(X_train, y_train)\n",
    "gbc_pred = gbc.predict(X_test)\n",
    "print (f\" Accuracy for Gradient Boosting Classifier is { accuracy_score(y_test, gbc_pred)}\")"
   ]
  },
  {
   "cell_type": "code",
   "execution_count": 38,
   "id": "7c872478",
   "metadata": {},
   "outputs": [],
   "source": [
    "Classifier_Init = ['Classifier Name', 'Classifier Accuracy']\n",
    "ClassifierComp = pd.DataFrame(columns = Classifier_Init)"
   ]
  },
  {
   "cell_type": "code",
   "execution_count": 39,
   "id": "d4f3b300",
   "metadata": {},
   "outputs": [],
   "source": [
    "ClassifierComp.loc[0, 'Classifier Name'] = \"ExtraTreesClassifier\"\n",
    "ClassifierComp.loc[1, 'Classifier Name'] = \"DecisionTreeClassifier\"\n",
    "ClassifierComp.loc[2, 'Classifier Name'] = \"RandomForestClassifier\"\n",
    "ClassifierComp.loc[3, 'Classifier Name'] = \"XGBoostClassifier\"\n",
    "ClassifierComp.loc[4, 'Classifier Name'] = \"GradientBoostingClassifier\"\n",
    "\n",
    "ClassifierComp.loc[0, 'Classifier Accuracy'] = 0.535\n",
    "ClassifierComp.loc[1, 'Classifier Accuracy'] = 0.5275\n",
    "ClassifierComp.loc[2, 'Classifier Accuracy'] = 0.527\n",
    "ClassifierComp.loc[3, 'Classifier Accuracy'] = 0.5045\n",
    "ClassifierComp.loc[4, 'Classifier Accuracy'] = 0.5025"
   ]
  },
  {
   "cell_type": "code",
   "execution_count": 42,
   "id": "c9dd92ab",
   "metadata": {},
   "outputs": [
    {
     "data": {
      "text/plain": [
       "Text(0, 0.5, 'Classifier')"
      ]
     },
     "execution_count": 42,
     "metadata": {},
     "output_type": "execute_result"
    },
    {
     "data": {
      "image/png": "[encoded data removed]",
      "text/plain": [
       "<Figure size 432x288 with 1 Axes>"
      ]
     },
     "metadata": {
      "needs_background": "light"
     },
     "output_type": "display_data"
    }
   ],
   "source": [
    "sns.barplot(x ='Classifier Accuracy', y = 'Classifier Name', data = ClassifierComp, color = 'm')\n",
    "plt.title('Classifier Accuracy Score post Hyper-Parameter Tuning \\n')\n",
    "plt.xlabel('Accuracy Score (%)')\n",
    "plt.ylabel('Classifier')"
   ]
  },
  {
   "cell_type": "code",
   "execution_count": null,
   "id": "79442c8d",
   "metadata": {},
   "outputs": [],
   "source": []
  }
 ],
 "metadata": {
  "kernelspec": {
   "display_name": "Python 3 (ipykernel)",
   "language": "python",
   "name": "python3"
  },
  "language_info": {
   "codemirror_mode": {
    "name": "ipython",
    "version": 3
   },
   "file_extension": ".py",
   "mimetype": "text/x-python",
   "name": "python",
   "nbconvert_exporter": "python",
   "pygments_lexer": "ipython3",
   "version": "3.9.7"
  }
 },
 "nbformat": 4,
 "nbformat_minor": 5
}
